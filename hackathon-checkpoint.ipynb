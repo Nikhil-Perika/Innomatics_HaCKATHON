{
 "cells": [
  {
   "cell_type": "markdown",
   "id": "e00e6d10",
   "metadata": {},
   "source": [
    "1)Download the data from the above link. How many \".csv\" files are available in the dataset?\n",
    "A. 4"
   ]
  },
  {
   "cell_type": "markdown",
   "id": "53e3b6e0",
   "metadata": {},
   "source": [
    "## 2) What is the shape of \"movies.csv\"?\n"
   ]
  },
  {
   "cell_type": "code",
   "execution_count": 9,
   "id": "fdd11706",
   "metadata": {},
   "outputs": [],
   "source": [
    "import pandas as pd\n",
    "f1=pd.read_csv(r\"C:\\Users\\AKHIL\\PythonPrograms\\.ipynb_checkpoints\\movies.csv\")\n"
   ]
  },
  {
   "cell_type": "code",
   "execution_count": 13,
   "id": "db14b0ac",
   "metadata": {},
   "outputs": [
    {
     "data": {
      "text/plain": [
       "(9742, 3)"
      ]
     },
     "execution_count": 13,
     "metadata": {},
     "output_type": "execute_result"
    }
   ],
   "source": [
    "f1.shape"
   ]
  },
  {
   "cell_type": "markdown",
   "id": "cb56f079",
   "metadata": {},
   "source": [
    "## 3) What is the shape of \"ratings.csv\"?"
   ]
  },
  {
   "cell_type": "code",
   "execution_count": 16,
   "id": "3adeb0fc",
   "metadata": {},
   "outputs": [],
   "source": [
    "f2=pd.read_csv(r\"C:\\Users\\AKHIL\\PythonPrograms\\.ipynb_checkpoints\\ratings.csv\")"
   ]
  },
  {
   "cell_type": "code",
   "execution_count": 19,
   "id": "3b51eefb",
   "metadata": {},
   "outputs": [
    {
     "data": {
      "text/plain": [
       "(100836, 4)"
      ]
     },
     "execution_count": 19,
     "metadata": {},
     "output_type": "execute_result"
    }
   ],
   "source": [
    "f2.shape"
   ]
  },
  {
   "cell_type": "markdown",
   "id": "4c186538",
   "metadata": {},
   "source": [
    "## 4) How many unique \"userId\" are available in \"ratings.csv\"?"
   ]
  },
  {
   "cell_type": "code",
   "execution_count": 21,
   "id": "8a002b2e",
   "metadata": {},
   "outputs": [
    {
     "data": {
      "text/plain": [
       "610"
      ]
     },
     "execution_count": 21,
     "metadata": {},
     "output_type": "execute_result"
    }
   ],
   "source": [
    "f2[\"userId\"].nunique()"
   ]
  },
  {
   "cell_type": "markdown",
   "id": "153014ef",
   "metadata": {},
   "source": [
    "## 5)Which movie has recieved maximum number of user ratings?\n"
   ]
  },
  {
   "cell_type": "code",
   "execution_count": 30,
   "id": "1a06c44e",
   "metadata": {},
   "outputs": [
    {
     "data": {
      "text/plain": [
       "movieId\n",
       "356       329\n",
       "318       317\n",
       "296       307\n",
       "593       279\n",
       "2571      278\n",
       "         ... \n",
       "4093        1\n",
       "4089        1\n",
       "58351       1\n",
       "4083        1\n",
       "193609      1\n",
       "Name: rating, Length: 9724, dtype: int64"
      ]
     },
     "execution_count": 30,
     "metadata": {},
     "output_type": "execute_result"
    }
   ],
   "source": [
    "f2.groupby(by=\"movieId\")[\"rating\"].count().sort_values(ascending=False)"
   ]
  },
  {
   "cell_type": "code",
   "execution_count": 34,
   "id": "9c098dd5",
   "metadata": {},
   "outputs": [
    {
     "data": {
      "text/html": [
       "<div>\n",
       "<style scoped>\n",
       "    .dataframe tbody tr th:only-of-type {\n",
       "        vertical-align: middle;\n",
       "    }\n",
       "\n",
       "    .dataframe tbody tr th {\n",
       "        vertical-align: top;\n",
       "    }\n",
       "\n",
       "    .dataframe thead th {\n",
       "        text-align: right;\n",
       "    }\n",
       "</style>\n",
       "<table border=\"1\" class=\"dataframe\">\n",
       "  <thead>\n",
       "    <tr style=\"text-align: right;\">\n",
       "      <th></th>\n",
       "      <th>movieId</th>\n",
       "      <th>title</th>\n",
       "      <th>genres</th>\n",
       "    </tr>\n",
       "  </thead>\n",
       "  <tbody>\n",
       "    <tr>\n",
       "      <th>314</th>\n",
       "      <td>356</td>\n",
       "      <td>Forrest Gump (1994)</td>\n",
       "      <td>Comedy|Drama|Romance|War</td>\n",
       "    </tr>\n",
       "  </tbody>\n",
       "</table>\n",
       "</div>"
      ],
      "text/plain": [
       "     movieId                title                    genres\n",
       "314      356  Forrest Gump (1994)  Comedy|Drama|Romance|War"
      ]
     },
     "execution_count": 34,
     "metadata": {},
     "output_type": "execute_result"
    }
   ],
   "source": [
    "f1[f1['movieId']==356]\n"
   ]
  },
  {
   "cell_type": "markdown",
   "id": "a23809ff",
   "metadata": {},
   "source": [
    "## 6) Select all the correct tags submitted by users to \"Matrix, The (1999)\" movie?"
   ]
  },
  {
   "cell_type": "code",
   "execution_count": 84,
   "id": "5f6b62b4",
   "metadata": {},
   "outputs": [],
   "source": [
    "tags_df=pd.read_csv(r\"C:\\Users\\AKHIL\\PythonPrograms\\.ipynb_checkpoints\\tags.csv\")\n"
   ]
  },
  {
   "cell_type": "code",
   "execution_count": 86,
   "id": "309f8e57",
   "metadata": {},
   "outputs": [],
   "source": [
    "matrix_id=f1[f1[\"title\"]==\"Matrix, The (1999)\"][\"movieId\"].values[0]"
   ]
  },
  {
   "cell_type": "code",
   "execution_count": 89,
   "id": "5b28a828",
   "metadata": {},
   "outputs": [],
   "source": [
    "matrix_tags=tags_df[tags_df[\"movieId\"]==matrix_id]\n"
   ]
  },
  {
   "cell_type": "code",
   "execution_count": 94,
   "id": "707197d4",
   "metadata": {},
   "outputs": [
    {
     "data": {
      "text/plain": [
       "['martial arts',\n",
       " 'sci-fi',\n",
       " 'alternate universe',\n",
       " 'philosophy',\n",
       " 'post apocalyptic']"
      ]
     },
     "execution_count": 94,
     "metadata": {},
     "output_type": "execute_result"
    }
   ],
   "source": [
    "matrix_tags[\"tag\"].tolist()"
   ]
  },
  {
   "cell_type": "markdown",
   "id": "d3cc3a4f",
   "metadata": {},
   "source": [
    "## 7) What is the average user rating for movie named \"Terminator 2: Judgment Day (1991)\"? \"?"
   ]
  },
  {
   "cell_type": "code",
   "execution_count": 39,
   "id": "ad7a66b3",
   "metadata": {},
   "outputs": [
    {
     "data": {
      "text/html": [
       "<div>\n",
       "<style scoped>\n",
       "    .dataframe tbody tr th:only-of-type {\n",
       "        vertical-align: middle;\n",
       "    }\n",
       "\n",
       "    .dataframe tbody tr th {\n",
       "        vertical-align: top;\n",
       "    }\n",
       "\n",
       "    .dataframe thead th {\n",
       "        text-align: right;\n",
       "    }\n",
       "</style>\n",
       "<table border=\"1\" class=\"dataframe\">\n",
       "  <thead>\n",
       "    <tr style=\"text-align: right;\">\n",
       "      <th></th>\n",
       "      <th>movieId</th>\n",
       "      <th>title</th>\n",
       "      <th>genres</th>\n",
       "    </tr>\n",
       "  </thead>\n",
       "  <tbody>\n",
       "    <tr>\n",
       "      <th>1939</th>\n",
       "      <td>2571</td>\n",
       "      <td>Matrix, The (1999)</td>\n",
       "      <td>Action|Sci-Fi|Thriller</td>\n",
       "    </tr>\n",
       "  </tbody>\n",
       "</table>\n",
       "</div>"
      ],
      "text/plain": [
       "      movieId               title                  genres\n",
       "1939     2571  Matrix, The (1999)  Action|Sci-Fi|Thriller"
      ]
     },
     "execution_count": 39,
     "metadata": {},
     "output_type": "execute_result"
    }
   ],
   "source": [
    "f1[f1[\"title\"]==\"Matrix, The (1999)\"]"
   ]
  },
  {
   "cell_type": "code",
   "execution_count": 61,
   "id": "79a44d06",
   "metadata": {},
   "outputs": [],
   "source": [
    "tags_df=pd.read_csv(r\"C:\\Users\\AKHIL\\PythonPrograms\\.ipynb_checkpoints\\tags.csv\")\n"
   ]
  },
  {
   "cell_type": "code",
   "execution_count": 67,
   "id": "512d6d35",
   "metadata": {},
   "outputs": [],
   "source": [
    "terminator_movie_id = f1[(f1[\"title\"] == \"Terminator 2: Judgment Day (1991)\")][\"movieId\"].values[0]"
   ]
  },
  {
   "cell_type": "code",
   "execution_count": 68,
   "id": "70747e0b",
   "metadata": {},
   "outputs": [
    {
     "data": {
      "text/plain": [
       "589"
      ]
     },
     "execution_count": 68,
     "metadata": {},
     "output_type": "execute_result"
    }
   ],
   "source": [
    "terminator_movie_id"
   ]
  },
  {
   "cell_type": "code",
   "execution_count": 72,
   "id": "bd7e8b49",
   "metadata": {},
   "outputs": [],
   "source": [
    "terminator_ratings = f2[f2[\"movieId\"] == terminator_movie_id]"
   ]
  },
  {
   "cell_type": "code",
   "execution_count": 73,
   "id": "3e2f8b76",
   "metadata": {},
   "outputs": [
    {
     "data": {
      "text/html": [
       "<div>\n",
       "<style scoped>\n",
       "    .dataframe tbody tr th:only-of-type {\n",
       "        vertical-align: middle;\n",
       "    }\n",
       "\n",
       "    .dataframe tbody tr th {\n",
       "        vertical-align: top;\n",
       "    }\n",
       "\n",
       "    .dataframe thead th {\n",
       "        text-align: right;\n",
       "    }\n",
       "</style>\n",
       "<table border=\"1\" class=\"dataframe\">\n",
       "  <thead>\n",
       "    <tr style=\"text-align: right;\">\n",
       "      <th></th>\n",
       "      <th>userId</th>\n",
       "      <th>movieId</th>\n",
       "      <th>rating</th>\n",
       "      <th>timestamp</th>\n",
       "    </tr>\n",
       "  </thead>\n",
       "  <tbody>\n",
       "    <tr>\n",
       "      <th>552</th>\n",
       "      <td>5</td>\n",
       "      <td>589</td>\n",
       "      <td>3.0</td>\n",
       "      <td>847435258</td>\n",
       "    </tr>\n",
       "    <tr>\n",
       "      <th>806</th>\n",
       "      <td>6</td>\n",
       "      <td>589</td>\n",
       "      <td>3.0</td>\n",
       "      <td>845553317</td>\n",
       "    </tr>\n",
       "    <tr>\n",
       "      <th>886</th>\n",
       "      <td>7</td>\n",
       "      <td>589</td>\n",
       "      <td>2.5</td>\n",
       "      <td>1106635940</td>\n",
       "    </tr>\n",
       "    <tr>\n",
       "      <th>1286</th>\n",
       "      <td>11</td>\n",
       "      <td>589</td>\n",
       "      <td>4.0</td>\n",
       "      <td>902154266</td>\n",
       "    </tr>\n",
       "    <tr>\n",
       "      <th>1449</th>\n",
       "      <td>15</td>\n",
       "      <td>589</td>\n",
       "      <td>5.0</td>\n",
       "      <td>1510572012</td>\n",
       "    </tr>\n",
       "    <tr>\n",
       "      <th>...</th>\n",
       "      <td>...</td>\n",
       "      <td>...</td>\n",
       "      <td>...</td>\n",
       "      <td>...</td>\n",
       "    </tr>\n",
       "    <tr>\n",
       "      <th>97461</th>\n",
       "      <td>606</td>\n",
       "      <td>589</td>\n",
       "      <td>3.5</td>\n",
       "      <td>1171325855</td>\n",
       "    </tr>\n",
       "    <tr>\n",
       "      <th>98514</th>\n",
       "      <td>607</td>\n",
       "      <td>589</td>\n",
       "      <td>4.0</td>\n",
       "      <td>963078960</td>\n",
       "    </tr>\n",
       "    <tr>\n",
       "      <th>98786</th>\n",
       "      <td>608</td>\n",
       "      <td>589</td>\n",
       "      <td>3.0</td>\n",
       "      <td>1117415154</td>\n",
       "    </tr>\n",
       "    <tr>\n",
       "      <th>99519</th>\n",
       "      <td>609</td>\n",
       "      <td>589</td>\n",
       "      <td>3.0</td>\n",
       "      <td>847220990</td>\n",
       "    </tr>\n",
       "    <tr>\n",
       "      <th>99573</th>\n",
       "      <td>610</td>\n",
       "      <td>589</td>\n",
       "      <td>5.0</td>\n",
       "      <td>1479542983</td>\n",
       "    </tr>\n",
       "  </tbody>\n",
       "</table>\n",
       "<p>224 rows × 4 columns</p>\n",
       "</div>"
      ],
      "text/plain": [
       "       userId  movieId  rating   timestamp\n",
       "552         5      589     3.0   847435258\n",
       "806         6      589     3.0   845553317\n",
       "886         7      589     2.5  1106635940\n",
       "1286       11      589     4.0   902154266\n",
       "1449       15      589     5.0  1510572012\n",
       "...       ...      ...     ...         ...\n",
       "97461     606      589     3.5  1171325855\n",
       "98514     607      589     4.0   963078960\n",
       "98786     608      589     3.0  1117415154\n",
       "99519     609      589     3.0   847220990\n",
       "99573     610      589     5.0  1479542983\n",
       "\n",
       "[224 rows x 4 columns]"
      ]
     },
     "execution_count": 73,
     "metadata": {},
     "output_type": "execute_result"
    }
   ],
   "source": [
    "terminator_ratings"
   ]
  },
  {
   "cell_type": "code",
   "execution_count": 81,
   "id": "071226f7",
   "metadata": {},
   "outputs": [],
   "source": [
    "average_rating=terminator_ratings[\"rating\"].mean()"
   ]
  },
  {
   "cell_type": "code",
   "execution_count": 82,
   "id": "f8478b02",
   "metadata": {},
   "outputs": [
    {
     "data": {
      "text/plain": [
       "3.970982142857143"
      ]
     },
     "execution_count": 82,
     "metadata": {},
     "output_type": "execute_result"
    }
   ],
   "source": [
    "average_rating"
   ]
  },
  {
   "cell_type": "markdown",
   "id": "5836e532",
   "metadata": {},
   "source": [
    "## 8)How does the data distribution of user ratings for \"Fight Club (1999)\" movie looks like?"
   ]
  },
  {
   "cell_type": "code",
   "execution_count": 58,
   "id": "bcf7d578",
   "metadata": {},
   "outputs": [
    {
     "data": {
      "text/html": [
       "<div>\n",
       "<style scoped>\n",
       "    .dataframe tbody tr th:only-of-type {\n",
       "        vertical-align: middle;\n",
       "    }\n",
       "\n",
       "    .dataframe tbody tr th {\n",
       "        vertical-align: top;\n",
       "    }\n",
       "\n",
       "    .dataframe thead th {\n",
       "        text-align: right;\n",
       "    }\n",
       "</style>\n",
       "<table border=\"1\" class=\"dataframe\">\n",
       "  <thead>\n",
       "    <tr style=\"text-align: right;\">\n",
       "      <th></th>\n",
       "      <th>movieId</th>\n",
       "      <th>title</th>\n",
       "      <th>genres</th>\n",
       "    </tr>\n",
       "  </thead>\n",
       "  <tbody>\n",
       "    <tr>\n",
       "      <th>2226</th>\n",
       "      <td>2959</td>\n",
       "      <td>Fight Club (1999)</td>\n",
       "      <td>Action|Crime|Drama|Thriller</td>\n",
       "    </tr>\n",
       "  </tbody>\n",
       "</table>\n",
       "</div>"
      ],
      "text/plain": [
       "      movieId              title                       genres\n",
       "2226     2959  Fight Club (1999)  Action|Crime|Drama|Thriller"
      ]
     },
     "execution_count": 58,
     "metadata": {},
     "output_type": "execute_result"
    }
   ],
   "source": [
    "f1[f1[\"title\"]==\"Fight Club (1999)\"]"
   ]
  },
  {
   "cell_type": "code",
   "execution_count": 96,
   "id": "a28fa6d5",
   "metadata": {},
   "outputs": [],
   "source": [
    "import matplotlib.pyplot as plt\n",
    "fight_club_ratings=f2[f2[\"movieId\"]==2959]"
   ]
  },
  {
   "cell_type": "code",
   "execution_count": 97,
   "id": "b48b986a",
   "metadata": {},
   "outputs": [
    {
     "data": {
      "text/html": [
       "<div>\n",
       "<style scoped>\n",
       "    .dataframe tbody tr th:only-of-type {\n",
       "        vertical-align: middle;\n",
       "    }\n",
       "\n",
       "    .dataframe tbody tr th {\n",
       "        vertical-align: top;\n",
       "    }\n",
       "\n",
       "    .dataframe thead th {\n",
       "        text-align: right;\n",
       "    }\n",
       "</style>\n",
       "<table border=\"1\" class=\"dataframe\">\n",
       "  <thead>\n",
       "    <tr style=\"text-align: right;\">\n",
       "      <th></th>\n",
       "      <th>userId</th>\n",
       "      <th>movieId</th>\n",
       "      <th>rating</th>\n",
       "      <th>timestamp</th>\n",
       "    </tr>\n",
       "  </thead>\n",
       "  <tbody>\n",
       "    <tr>\n",
       "      <th>192</th>\n",
       "      <td>1</td>\n",
       "      <td>2959</td>\n",
       "      <td>5.0</td>\n",
       "      <td>964983282</td>\n",
       "    </tr>\n",
       "    <tr>\n",
       "      <th>458</th>\n",
       "      <td>4</td>\n",
       "      <td>2959</td>\n",
       "      <td>2.0</td>\n",
       "      <td>945078528</td>\n",
       "    </tr>\n",
       "    <tr>\n",
       "      <th>1134</th>\n",
       "      <td>10</td>\n",
       "      <td>2959</td>\n",
       "      <td>0.5</td>\n",
       "      <td>1455356582</td>\n",
       "    </tr>\n",
       "    <tr>\n",
       "      <th>1479</th>\n",
       "      <td>15</td>\n",
       "      <td>2959</td>\n",
       "      <td>2.5</td>\n",
       "      <td>1510571747</td>\n",
       "    </tr>\n",
       "    <tr>\n",
       "      <th>1635</th>\n",
       "      <td>16</td>\n",
       "      <td>2959</td>\n",
       "      <td>3.5</td>\n",
       "      <td>1377476874</td>\n",
       "    </tr>\n",
       "    <tr>\n",
       "      <th>...</th>\n",
       "      <td>...</td>\n",
       "      <td>...</td>\n",
       "      <td>...</td>\n",
       "      <td>...</td>\n",
       "    </tr>\n",
       "    <tr>\n",
       "      <th>95893</th>\n",
       "      <td>601</td>\n",
       "      <td>2959</td>\n",
       "      <td>5.0</td>\n",
       "      <td>1441639461</td>\n",
       "    </tr>\n",
       "    <tr>\n",
       "      <th>96788</th>\n",
       "      <td>603</td>\n",
       "      <td>2959</td>\n",
       "      <td>4.0</td>\n",
       "      <td>963176105</td>\n",
       "    </tr>\n",
       "    <tr>\n",
       "      <th>97835</th>\n",
       "      <td>606</td>\n",
       "      <td>2959</td>\n",
       "      <td>5.0</td>\n",
       "      <td>1171231517</td>\n",
       "    </tr>\n",
       "    <tr>\n",
       "      <th>99107</th>\n",
       "      <td>608</td>\n",
       "      <td>2959</td>\n",
       "      <td>5.0</td>\n",
       "      <td>1117336631</td>\n",
       "    </tr>\n",
       "    <tr>\n",
       "      <th>99699</th>\n",
       "      <td>610</td>\n",
       "      <td>2959</td>\n",
       "      <td>5.0</td>\n",
       "      <td>1479541966</td>\n",
       "    </tr>\n",
       "  </tbody>\n",
       "</table>\n",
       "<p>218 rows × 4 columns</p>\n",
       "</div>"
      ],
      "text/plain": [
       "       userId  movieId  rating   timestamp\n",
       "192         1     2959     5.0   964983282\n",
       "458         4     2959     2.0   945078528\n",
       "1134       10     2959     0.5  1455356582\n",
       "1479       15     2959     2.5  1510571747\n",
       "1635       16     2959     3.5  1377476874\n",
       "...       ...      ...     ...         ...\n",
       "95893     601     2959     5.0  1441639461\n",
       "96788     603     2959     4.0   963176105\n",
       "97835     606     2959     5.0  1171231517\n",
       "99107     608     2959     5.0  1117336631\n",
       "99699     610     2959     5.0  1479541966\n",
       "\n",
       "[218 rows x 4 columns]"
      ]
     },
     "execution_count": 97,
     "metadata": {},
     "output_type": "execute_result"
    }
   ],
   "source": [
    "fight_club_ratings"
   ]
  },
  {
   "cell_type": "code",
   "execution_count": 99,
   "id": "af3367df",
   "metadata": {},
   "outputs": [
    {
     "data": {
      "image/png": "[encoded data removed]",
      "text/plain": [
       "<Figure size 640x480 with 1 Axes>"
      ]
     },
     "metadata": {},
     "output_type": "display_data"
    }
   ],
   "source": [
    "#plotting the histogram\n",
    "plt.hist(fight_club_ratings[\"rating\"], bins=10, edgecolor=\"orange\")\n",
    "plt.title(\"User Ratings Distribution for Fight Club (1999)\")\n",
    "plt.xlabel(\"Rating\")\n",
    "plt.ylabel(\"Number of Users\")\n",
    "plt.show()"
   ]
  },
  {
   "cell_type": "markdown",
   "id": "d04a6559",
   "metadata": {},
   "source": [
    "## 9) Which movie is the most popular based on  average user ratings?\n"
   ]
  },
  {
   "cell_type": "code",
   "execution_count": 101,
   "id": "376af5e4",
   "metadata": {},
   "outputs": [],
   "source": [
    "merged_df = pd.merge(f1, f2, on='movieId')\n",
    "\n",
    "movies_to_compare = ['Godfather, The (1972)', 'Shawshank Redemption, The (1994)','Jumanji (1995)', 'Wolf of Wall Street, The (2013)']\n",
    "filtered_df = merged_df[merged_df['title'].isin(movies_to_compare)]"
   ]
  },
  {
   "cell_type": "code",
   "execution_count": 102,
   "id": "3ed31a66",
   "metadata": {},
   "outputs": [
    {
     "data": {
      "text/html": [
       "<div>\n",
       "<style scoped>\n",
       "    .dataframe tbody tr th:only-of-type {\n",
       "        vertical-align: middle;\n",
       "    }\n",
       "\n",
       "    .dataframe tbody tr th {\n",
       "        vertical-align: top;\n",
       "    }\n",
       "\n",
       "    .dataframe thead th {\n",
       "        text-align: right;\n",
       "    }\n",
       "</style>\n",
       "<table border=\"1\" class=\"dataframe\">\n",
       "  <thead>\n",
       "    <tr style=\"text-align: right;\">\n",
       "      <th></th>\n",
       "      <th>movieId</th>\n",
       "      <th>title</th>\n",
       "      <th>genres</th>\n",
       "      <th>userId</th>\n",
       "      <th>rating</th>\n",
       "      <th>timestamp</th>\n",
       "    </tr>\n",
       "  </thead>\n",
       "  <tbody>\n",
       "    <tr>\n",
       "      <th>215</th>\n",
       "      <td>2</td>\n",
       "      <td>Jumanji (1995)</td>\n",
       "      <td>Adventure|Children|Fantasy</td>\n",
       "      <td>6</td>\n",
       "      <td>4.0</td>\n",
       "      <td>845553522</td>\n",
       "    </tr>\n",
       "    <tr>\n",
       "      <th>216</th>\n",
       "      <td>2</td>\n",
       "      <td>Jumanji (1995)</td>\n",
       "      <td>Adventure|Children|Fantasy</td>\n",
       "      <td>8</td>\n",
       "      <td>4.0</td>\n",
       "      <td>839463806</td>\n",
       "    </tr>\n",
       "    <tr>\n",
       "      <th>217</th>\n",
       "      <td>2</td>\n",
       "      <td>Jumanji (1995)</td>\n",
       "      <td>Adventure|Children|Fantasy</td>\n",
       "      <td>18</td>\n",
       "      <td>3.0</td>\n",
       "      <td>1455617462</td>\n",
       "    </tr>\n",
       "    <tr>\n",
       "      <th>218</th>\n",
       "      <td>2</td>\n",
       "      <td>Jumanji (1995)</td>\n",
       "      <td>Adventure|Children|Fantasy</td>\n",
       "      <td>19</td>\n",
       "      <td>3.0</td>\n",
       "      <td>965704331</td>\n",
       "    </tr>\n",
       "    <tr>\n",
       "      <th>219</th>\n",
       "      <td>2</td>\n",
       "      <td>Jumanji (1995)</td>\n",
       "      <td>Adventure|Children|Fantasy</td>\n",
       "      <td>20</td>\n",
       "      <td>3.0</td>\n",
       "      <td>1054038313</td>\n",
       "    </tr>\n",
       "    <tr>\n",
       "      <th>...</th>\n",
       "      <td>...</td>\n",
       "      <td>...</td>\n",
       "      <td>...</td>\n",
       "      <td>...</td>\n",
       "      <td>...</td>\n",
       "      <td>...</td>\n",
       "    </tr>\n",
       "    <tr>\n",
       "      <th>96418</th>\n",
       "      <td>106782</td>\n",
       "      <td>Wolf of Wall Street, The (2013)</td>\n",
       "      <td>Comedy|Crime|Drama</td>\n",
       "      <td>560</td>\n",
       "      <td>4.0</td>\n",
       "      <td>1469648763</td>\n",
       "    </tr>\n",
       "    <tr>\n",
       "      <th>96419</th>\n",
       "      <td>106782</td>\n",
       "      <td>Wolf of Wall Street, The (2013)</td>\n",
       "      <td>Comedy|Crime|Drama</td>\n",
       "      <td>564</td>\n",
       "      <td>3.0</td>\n",
       "      <td>1478453646</td>\n",
       "    </tr>\n",
       "    <tr>\n",
       "      <th>96420</th>\n",
       "      <td>106782</td>\n",
       "      <td>Wolf of Wall Street, The (2013)</td>\n",
       "      <td>Comedy|Crime|Drama</td>\n",
       "      <td>599</td>\n",
       "      <td>3.0</td>\n",
       "      <td>1498528478</td>\n",
       "    </tr>\n",
       "    <tr>\n",
       "      <th>96421</th>\n",
       "      <td>106782</td>\n",
       "      <td>Wolf of Wall Street, The (2013)</td>\n",
       "      <td>Comedy|Crime|Drama</td>\n",
       "      <td>601</td>\n",
       "      <td>4.5</td>\n",
       "      <td>1521397833</td>\n",
       "    </tr>\n",
       "    <tr>\n",
       "      <th>96422</th>\n",
       "      <td>106782</td>\n",
       "      <td>Wolf of Wall Street, The (2013)</td>\n",
       "      <td>Comedy|Crime|Drama</td>\n",
       "      <td>610</td>\n",
       "      <td>4.5</td>\n",
       "      <td>1479542155</td>\n",
       "    </tr>\n",
       "  </tbody>\n",
       "</table>\n",
       "<p>673 rows × 6 columns</p>\n",
       "</div>"
      ],
      "text/plain": [
       "       movieId                            title                      genres  \\\n",
       "215          2                   Jumanji (1995)  Adventure|Children|Fantasy   \n",
       "216          2                   Jumanji (1995)  Adventure|Children|Fantasy   \n",
       "217          2                   Jumanji (1995)  Adventure|Children|Fantasy   \n",
       "218          2                   Jumanji (1995)  Adventure|Children|Fantasy   \n",
       "219          2                   Jumanji (1995)  Adventure|Children|Fantasy   \n",
       "...        ...                              ...                         ...   \n",
       "96418   106782  Wolf of Wall Street, The (2013)          Comedy|Crime|Drama   \n",
       "96419   106782  Wolf of Wall Street, The (2013)          Comedy|Crime|Drama   \n",
       "96420   106782  Wolf of Wall Street, The (2013)          Comedy|Crime|Drama   \n",
       "96421   106782  Wolf of Wall Street, The (2013)          Comedy|Crime|Drama   \n",
       "96422   106782  Wolf of Wall Street, The (2013)          Comedy|Crime|Drama   \n",
       "\n",
       "       userId  rating   timestamp  \n",
       "215         6     4.0   845553522  \n",
       "216         8     4.0   839463806  \n",
       "217        18     3.0  1455617462  \n",
       "218        19     3.0   965704331  \n",
       "219        20     3.0  1054038313  \n",
       "...       ...     ...         ...  \n",
       "96418     560     4.0  1469648763  \n",
       "96419     564     3.0  1478453646  \n",
       "96420     599     3.0  1498528478  \n",
       "96421     601     4.5  1521397833  \n",
       "96422     610     4.5  1479542155  \n",
       "\n",
       "[673 rows x 6 columns]"
      ]
     },
     "execution_count": 102,
     "metadata": {},
     "output_type": "execute_result"
    }
   ],
   "source": [
    "filtered_df"
   ]
  },
  {
   "cell_type": "code",
   "execution_count": 103,
   "id": "cdda2908",
   "metadata": {},
   "outputs": [],
   "source": [
    "avg_ratings = filtered_df.groupby('title')['rating'].mean()\n"
   ]
  },
  {
   "cell_type": "code",
   "execution_count": 105,
   "id": "71a1ff1b",
   "metadata": {},
   "outputs": [
    {
     "name": "stdout",
     "output_type": "stream",
     "text": [
      "Shawshank Redemption, The (1994)\n"
     ]
    }
   ],
   "source": [
    "sortd_ratings = avg_ratings.sort_values(ascending=False)\n",
    "# Print the most popular movie based on average rating\n",
    "print(sortd_ratings.index[0])"
   ]
  },
  {
   "cell_type": "markdown",
   "id": "0f3ee3e9",
   "metadata": {},
   "source": [
    "## 10) Select all the correct options which comes under top 5 popular movies based on number of user ratings."
   ]
  },
  {
   "cell_type": "code",
   "execution_count": 106,
   "id": "f39a85d6",
   "metadata": {},
   "outputs": [
    {
     "name": "stdout",
     "output_type": "stream",
     "text": [
      "Top 5 popular movies based on number of user ratings:\n",
      "Index(['Forrest Gump (1994)', 'Shawshank Redemption, The (1994)',\n",
      "       'Pulp Fiction (1994)', 'Silence of the Lambs, The (1991)',\n",
      "       'Matrix, The (1999)'],\n",
      "      dtype='object', name='title')\n"
     ]
    }
   ],
   "source": [
    "merged_df = pd.merge(f1, f2, on=\"movieId\")\n",
    "\n",
    "# Calculate the number of user ratings for each movie\n",
    "ratings_count = merged_df.groupby(\"title\")[\"rating\"].count()\n",
    "\n",
    "# Find the top 5 popular movies based on ratings count\n",
    "top_5_movies = ratings_count.nlargest(5).index\n",
    "\n",
    "# Print the result\n",
    "print(\"Top 5 popular movies based on number of user ratings:\")\n",
    "print(top_5_movies)"
   ]
  },
  {
   "cell_type": "markdown",
   "id": "4cf66ac6",
   "metadata": {},
   "source": [
    "## 11) Which Sci-Fi movie is \"third most popular\" based on the number of user ratings?"
   ]
  },
  {
   "cell_type": "code",
   "execution_count": 107,
   "id": "1d39ffe9",
   "metadata": {},
   "outputs": [
    {
     "name": "stdout",
     "output_type": "stream",
     "text": [
      "Third most popular Sci-Fi movie based on user ratings:\n",
      "Jurassic Park (1993)\n"
     ]
    }
   ],
   "source": [
    "merged_df = pd.merge(f1, f2, on='movieId')  \n",
    "\n",
    "# Filter for Sci-Fi movies\n",
    "scifi_movies = merged_df[merged_df['genres'].str.contains('Sci-Fi')]  # Assuming 'genres' column\n",
    "\n",
    "# Count the number of ratings for each Sci-Fi movie\n",
    "rating_counts = scifi_movies.groupby('title')['rating'].count()\n",
    "\n",
    "# Sort in descending order by rating count\n",
    "sorted_rating_counts = rating_counts.sort_values(ascending=False)\n",
    "\n",
    "# Get the title of the third most popular Sci-Fi movie\n",
    "third_most_popular_scifi = sorted_rating_counts.index[2]\n",
    "\n",
    "print(\"Third most popular Sci-Fi movie based on user ratings:\")\n",
    "print(third_most_popular_scifi)"
   ]
  },
  {
   "cell_type": "markdown",
   "id": "2d35b9cb",
   "metadata": {},
   "source": [
    "## 12) Mention the movieId of the movie which has the highest IMDB rating"
   ]
  },
  {
   "cell_type": "code",
   "execution_count": 118,
   "id": "eed8eba4",
   "metadata": {},
   "outputs": [],
   "source": [
    "import requests\n",
    "import numpy as np\n",
    "import bs4\n",
    "\n",
    "def scrapper(imdbId):\n",
    "    id = str(int(imdbId))\n",
    "    n_zeroes = 7 - len(id)\n",
    "    new_id = \"0\"*n_zeroes + id\n",
    "    URL = f\"https://www.imdb.com/title/tt{new_id}/\"\n",
    "    request_header = {'Content-Type': 'text/html; charset=UTF-8', \n",
    "                      'User-Agent': 'Mozilla/5.0 (Windows NT 10.0; Win64; x64; rv:109.0) Gecko/20100101 Firefox/119.0', \n",
    "                      'Accept-Encoding': 'gzip, deflate, br'}\n",
    "    response = requests.get(URL, headers=request_header)\n",
    "    soup = bs4.BeautifulSoup(response.text,\"html.parser\")\n",
    "    imdb_rating = soup.find('span', attrs={'class' : 'sc-bde20123-1 cMEQkK'})\n",
    "    return imdb_rating.text if imdb_rating else np.nan\n",
    "\n"
   ]
  },
  {
   "cell_type": "code",
   "execution_count": 112,
   "id": "02ca8f49",
   "metadata": {},
   "outputs": [],
   "source": [
    "links_df=pd.read_csv(r\"C:\\Users\\AKHIL\\PythonPrograms\\.ipynb_checkpoints\\links.csv\")\n"
   ]
  },
  {
   "cell_type": "code",
   "execution_count": 120,
   "id": "36d355fb",
   "metadata": {},
   "outputs": [],
   "source": [
    "merged_df=pd.merge(f1,links_df,on=\"movieId\")"
   ]
  },
  {
   "cell_type": "code",
   "execution_count": 123,
   "id": "666a0f7f",
   "metadata": {},
   "outputs": [],
   "source": [
    "merged_df=pd.merge(merged_df,f2,on='movieId')"
   ]
  },
  {
   "cell_type": "code",
   "execution_count": 126,
   "id": "d351f627",
   "metadata": {},
   "outputs": [
    {
     "data": {
      "text/html": [
       "<div>\n",
       "<style scoped>\n",
       "    .dataframe tbody tr th:only-of-type {\n",
       "        vertical-align: middle;\n",
       "    }\n",
       "\n",
       "    .dataframe tbody tr th {\n",
       "        vertical-align: top;\n",
       "    }\n",
       "\n",
       "    .dataframe thead th {\n",
       "        text-align: right;\n",
       "    }\n",
       "</style>\n",
       "<table border=\"1\" class=\"dataframe\">\n",
       "  <thead>\n",
       "    <tr style=\"text-align: right;\">\n",
       "      <th></th>\n",
       "      <th>movieId</th>\n",
       "      <th>title</th>\n",
       "      <th>genres</th>\n",
       "      <th>imdbId</th>\n",
       "      <th>tmdbId</th>\n",
       "      <th>userId</th>\n",
       "      <th>rating</th>\n",
       "      <th>timestamp</th>\n",
       "    </tr>\n",
       "  </thead>\n",
       "  <tbody>\n",
       "    <tr>\n",
       "      <th>0</th>\n",
       "      <td>1</td>\n",
       "      <td>Toy Story (1995)</td>\n",
       "      <td>Adventure|Animation|Children|Comedy|Fantasy</td>\n",
       "      <td>114709</td>\n",
       "      <td>862.0</td>\n",
       "      <td>1</td>\n",
       "      <td>4.0</td>\n",
       "      <td>964982703</td>\n",
       "    </tr>\n",
       "    <tr>\n",
       "      <th>1</th>\n",
       "      <td>1</td>\n",
       "      <td>Toy Story (1995)</td>\n",
       "      <td>Adventure|Animation|Children|Comedy|Fantasy</td>\n",
       "      <td>114709</td>\n",
       "      <td>862.0</td>\n",
       "      <td>5</td>\n",
       "      <td>4.0</td>\n",
       "      <td>847434962</td>\n",
       "    </tr>\n",
       "    <tr>\n",
       "      <th>2</th>\n",
       "      <td>1</td>\n",
       "      <td>Toy Story (1995)</td>\n",
       "      <td>Adventure|Animation|Children|Comedy|Fantasy</td>\n",
       "      <td>114709</td>\n",
       "      <td>862.0</td>\n",
       "      <td>7</td>\n",
       "      <td>4.5</td>\n",
       "      <td>1106635946</td>\n",
       "    </tr>\n",
       "    <tr>\n",
       "      <th>3</th>\n",
       "      <td>1</td>\n",
       "      <td>Toy Story (1995)</td>\n",
       "      <td>Adventure|Animation|Children|Comedy|Fantasy</td>\n",
       "      <td>114709</td>\n",
       "      <td>862.0</td>\n",
       "      <td>15</td>\n",
       "      <td>2.5</td>\n",
       "      <td>1510577970</td>\n",
       "    </tr>\n",
       "    <tr>\n",
       "      <th>4</th>\n",
       "      <td>1</td>\n",
       "      <td>Toy Story (1995)</td>\n",
       "      <td>Adventure|Animation|Children|Comedy|Fantasy</td>\n",
       "      <td>114709</td>\n",
       "      <td>862.0</td>\n",
       "      <td>17</td>\n",
       "      <td>4.5</td>\n",
       "      <td>1305696483</td>\n",
       "    </tr>\n",
       "    <tr>\n",
       "      <th>...</th>\n",
       "      <td>...</td>\n",
       "      <td>...</td>\n",
       "      <td>...</td>\n",
       "      <td>...</td>\n",
       "      <td>...</td>\n",
       "      <td>...</td>\n",
       "      <td>...</td>\n",
       "      <td>...</td>\n",
       "    </tr>\n",
       "    <tr>\n",
       "      <th>100831</th>\n",
       "      <td>193581</td>\n",
       "      <td>Black Butler: Book of the Atlantic (2017)</td>\n",
       "      <td>Action|Animation|Comedy|Fantasy</td>\n",
       "      <td>5476944</td>\n",
       "      <td>432131.0</td>\n",
       "      <td>184</td>\n",
       "      <td>4.0</td>\n",
       "      <td>1537109082</td>\n",
       "    </tr>\n",
       "    <tr>\n",
       "      <th>100832</th>\n",
       "      <td>193583</td>\n",
       "      <td>No Game No Life: Zero (2017)</td>\n",
       "      <td>Animation|Comedy|Fantasy</td>\n",
       "      <td>5914996</td>\n",
       "      <td>445030.0</td>\n",
       "      <td>184</td>\n",
       "      <td>3.5</td>\n",
       "      <td>1537109545</td>\n",
       "    </tr>\n",
       "    <tr>\n",
       "      <th>100833</th>\n",
       "      <td>193585</td>\n",
       "      <td>Flint (2017)</td>\n",
       "      <td>Drama</td>\n",
       "      <td>6397426</td>\n",
       "      <td>479308.0</td>\n",
       "      <td>184</td>\n",
       "      <td>3.5</td>\n",
       "      <td>1537109805</td>\n",
       "    </tr>\n",
       "    <tr>\n",
       "      <th>100834</th>\n",
       "      <td>193587</td>\n",
       "      <td>Bungo Stray Dogs: Dead Apple (2018)</td>\n",
       "      <td>Action|Animation</td>\n",
       "      <td>8391976</td>\n",
       "      <td>483455.0</td>\n",
       "      <td>184</td>\n",
       "      <td>3.5</td>\n",
       "      <td>1537110021</td>\n",
       "    </tr>\n",
       "    <tr>\n",
       "      <th>100835</th>\n",
       "      <td>193609</td>\n",
       "      <td>Andrew Dice Clay: Dice Rules (1991)</td>\n",
       "      <td>Comedy</td>\n",
       "      <td>101726</td>\n",
       "      <td>37891.0</td>\n",
       "      <td>331</td>\n",
       "      <td>4.0</td>\n",
       "      <td>1537157606</td>\n",
       "    </tr>\n",
       "  </tbody>\n",
       "</table>\n",
       "<p>100836 rows × 8 columns</p>\n",
       "</div>"
      ],
      "text/plain": [
       "        movieId                                      title  \\\n",
       "0             1                           Toy Story (1995)   \n",
       "1             1                           Toy Story (1995)   \n",
       "2             1                           Toy Story (1995)   \n",
       "3             1                           Toy Story (1995)   \n",
       "4             1                           Toy Story (1995)   \n",
       "...         ...                                        ...   \n",
       "100831   193581  Black Butler: Book of the Atlantic (2017)   \n",
       "100832   193583               No Game No Life: Zero (2017)   \n",
       "100833   193585                               Flint (2017)   \n",
       "100834   193587        Bungo Stray Dogs: Dead Apple (2018)   \n",
       "100835   193609        Andrew Dice Clay: Dice Rules (1991)   \n",
       "\n",
       "                                             genres   imdbId    tmdbId  \\\n",
       "0       Adventure|Animation|Children|Comedy|Fantasy   114709     862.0   \n",
       "1       Adventure|Animation|Children|Comedy|Fantasy   114709     862.0   \n",
       "2       Adventure|Animation|Children|Comedy|Fantasy   114709     862.0   \n",
       "3       Adventure|Animation|Children|Comedy|Fantasy   114709     862.0   \n",
       "4       Adventure|Animation|Children|Comedy|Fantasy   114709     862.0   \n",
       "...                                             ...      ...       ...   \n",
       "100831              Action|Animation|Comedy|Fantasy  5476944  432131.0   \n",
       "100832                     Animation|Comedy|Fantasy  5914996  445030.0   \n",
       "100833                                        Drama  6397426  479308.0   \n",
       "100834                             Action|Animation  8391976  483455.0   \n",
       "100835                                       Comedy   101726   37891.0   \n",
       "\n",
       "        userId  rating   timestamp  \n",
       "0            1     4.0   964982703  \n",
       "1            5     4.0   847434962  \n",
       "2            7     4.5  1106635946  \n",
       "3           15     2.5  1510577970  \n",
       "4           17     4.5  1305696483  \n",
       "...        ...     ...         ...  \n",
       "100831     184     4.0  1537109082  \n",
       "100832     184     3.5  1537109545  \n",
       "100833     184     3.5  1537109805  \n",
       "100834     184     3.5  1537110021  \n",
       "100835     331     4.0  1537157606  \n",
       "\n",
       "[100836 rows x 8 columns]"
      ]
     },
     "execution_count": 126,
     "metadata": {},
     "output_type": "execute_result"
    }
   ],
   "source": [
    "merged_df"
   ]
  },
  {
   "cell_type": "code",
   "execution_count": 129,
   "id": "d72568cf",
   "metadata": {},
   "outputs": [
    {
     "ename": "ValueError",
     "evalue": "Length mismatch: Expected axis has 2 elements, new values have 3 elements",
     "output_type": "error",
     "traceback": [
      "\u001b[1;31m---------------------------------------------------------------------------\u001b[0m",
      "\u001b[1;31mValueError\u001b[0m                                Traceback (most recent call last)",
      "Cell \u001b[1;32mIn[129], line 2\u001b[0m\n\u001b[0;32m      1\u001b[0m movie_ratings_sum\u001b[38;5;241m=\u001b[39mf2\u001b[38;5;241m.\u001b[39mgroupby(\u001b[38;5;124m'\u001b[39m\u001b[38;5;124mmovieId\u001b[39m\u001b[38;5;124m'\u001b[39m)\u001b[38;5;241m.\u001b[39magg({\u001b[38;5;124m'\u001b[39m\u001b[38;5;124mrating\u001b[39m\u001b[38;5;124m'\u001b[39m:[\u001b[38;5;124m'\u001b[39m\u001b[38;5;124mcount\u001b[39m\u001b[38;5;124m'\u001b[39m,\u001b[38;5;124m'\u001b[39m\u001b[38;5;124mmean\u001b[39m\u001b[38;5;124m'\u001b[39m]})\n\u001b[1;32m----> 2\u001b[0m movie_ratings_sum\u001b[38;5;241m.\u001b[39mcolumns\u001b[38;5;241m=\u001b[39m[\u001b[38;5;124m'\u001b[39m\u001b[38;5;124mmovieId\u001b[39m\u001b[38;5;124m'\u001b[39m,\u001b[38;5;124m'\u001b[39m\u001b[38;5;124mRatingCount\u001b[39m\u001b[38;5;124m'\u001b[39m,\u001b[38;5;124m'\u001b[39m\u001b[38;5;124mMeanRating\u001b[39m\u001b[38;5;124m'\u001b[39m]\n\u001b[0;32m      3\u001b[0m movie_ratings_sum\n",
      "File \u001b[1;32m~\\anaconda\\Lib\\site-packages\\pandas\\core\\generic.py:5915\u001b[0m, in \u001b[0;36mNDFrame.__setattr__\u001b[1;34m(self, name, value)\u001b[0m\n\u001b[0;32m   5913\u001b[0m \u001b[38;5;28;01mtry\u001b[39;00m:\n\u001b[0;32m   5914\u001b[0m     \u001b[38;5;28mobject\u001b[39m\u001b[38;5;241m.\u001b[39m\u001b[38;5;21m__getattribute__\u001b[39m(\u001b[38;5;28mself\u001b[39m, name)\n\u001b[1;32m-> 5915\u001b[0m     \u001b[38;5;28;01mreturn\u001b[39;00m \u001b[38;5;28mobject\u001b[39m\u001b[38;5;241m.\u001b[39m\u001b[38;5;21m__setattr__\u001b[39m(\u001b[38;5;28mself\u001b[39m, name, value)\n\u001b[0;32m   5916\u001b[0m \u001b[38;5;28;01mexcept\u001b[39;00m \u001b[38;5;167;01mAttributeError\u001b[39;00m:\n\u001b[0;32m   5917\u001b[0m     \u001b[38;5;28;01mpass\u001b[39;00m\n",
      "File \u001b[1;32m~\\anaconda\\Lib\\site-packages\\pandas\\_libs\\properties.pyx:69\u001b[0m, in \u001b[0;36mpandas._libs.properties.AxisProperty.__set__\u001b[1;34m()\u001b[0m\n",
      "File \u001b[1;32m~\\anaconda\\Lib\\site-packages\\pandas\\core\\generic.py:823\u001b[0m, in \u001b[0;36mNDFrame._set_axis\u001b[1;34m(self, axis, labels)\u001b[0m\n\u001b[0;32m    821\u001b[0m \u001b[38;5;28;01mdef\u001b[39;00m \u001b[38;5;21m_set_axis\u001b[39m(\u001b[38;5;28mself\u001b[39m, axis: \u001b[38;5;28mint\u001b[39m, labels: AnyArrayLike \u001b[38;5;241m|\u001b[39m \u001b[38;5;28mlist\u001b[39m) \u001b[38;5;241m-\u001b[39m\u001b[38;5;241m>\u001b[39m \u001b[38;5;28;01mNone\u001b[39;00m:\n\u001b[0;32m    822\u001b[0m     labels \u001b[38;5;241m=\u001b[39m ensure_index(labels)\n\u001b[1;32m--> 823\u001b[0m     \u001b[38;5;28mself\u001b[39m\u001b[38;5;241m.\u001b[39m_mgr\u001b[38;5;241m.\u001b[39mset_axis(axis, labels)\n\u001b[0;32m    824\u001b[0m     \u001b[38;5;28mself\u001b[39m\u001b[38;5;241m.\u001b[39m_clear_item_cache()\n",
      "File \u001b[1;32m~\\anaconda\\Lib\\site-packages\\pandas\\core\\internals\\managers.py:230\u001b[0m, in \u001b[0;36mBaseBlockManager.set_axis\u001b[1;34m(self, axis, new_labels)\u001b[0m\n\u001b[0;32m    228\u001b[0m \u001b[38;5;28;01mdef\u001b[39;00m \u001b[38;5;21mset_axis\u001b[39m(\u001b[38;5;28mself\u001b[39m, axis: \u001b[38;5;28mint\u001b[39m, new_labels: Index) \u001b[38;5;241m-\u001b[39m\u001b[38;5;241m>\u001b[39m \u001b[38;5;28;01mNone\u001b[39;00m:\n\u001b[0;32m    229\u001b[0m     \u001b[38;5;66;03m# Caller is responsible for ensuring we have an Index object.\u001b[39;00m\n\u001b[1;32m--> 230\u001b[0m     \u001b[38;5;28mself\u001b[39m\u001b[38;5;241m.\u001b[39m_validate_set_axis(axis, new_labels)\n\u001b[0;32m    231\u001b[0m     \u001b[38;5;28mself\u001b[39m\u001b[38;5;241m.\u001b[39maxes[axis] \u001b[38;5;241m=\u001b[39m new_labels\n",
      "File \u001b[1;32m~\\anaconda\\Lib\\site-packages\\pandas\\core\\internals\\base.py:70\u001b[0m, in \u001b[0;36mDataManager._validate_set_axis\u001b[1;34m(self, axis, new_labels)\u001b[0m\n\u001b[0;32m     67\u001b[0m     \u001b[38;5;28;01mpass\u001b[39;00m\n\u001b[0;32m     69\u001b[0m \u001b[38;5;28;01melif\u001b[39;00m new_len \u001b[38;5;241m!=\u001b[39m old_len:\n\u001b[1;32m---> 70\u001b[0m     \u001b[38;5;28;01mraise\u001b[39;00m \u001b[38;5;167;01mValueError\u001b[39;00m(\n\u001b[0;32m     71\u001b[0m         \u001b[38;5;124mf\u001b[39m\u001b[38;5;124m\"\u001b[39m\u001b[38;5;124mLength mismatch: Expected axis has \u001b[39m\u001b[38;5;132;01m{\u001b[39;00mold_len\u001b[38;5;132;01m}\u001b[39;00m\u001b[38;5;124m elements, new \u001b[39m\u001b[38;5;124m\"\u001b[39m\n\u001b[0;32m     72\u001b[0m         \u001b[38;5;124mf\u001b[39m\u001b[38;5;124m\"\u001b[39m\u001b[38;5;124mvalues have \u001b[39m\u001b[38;5;132;01m{\u001b[39;00mnew_len\u001b[38;5;132;01m}\u001b[39;00m\u001b[38;5;124m elements\u001b[39m\u001b[38;5;124m\"\u001b[39m\n\u001b[0;32m     73\u001b[0m     )\n",
      "\u001b[1;31mValueError\u001b[0m: Length mismatch: Expected axis has 2 elements, new values have 3 elements"
     ]
    }
   ],
   "source": [
    "movie_ratings_sum=f2.groupby('movieId').agg({'rating':['count','mean']})\n",
    "movie_ratings_sum.columns=['movieId','RatingCount','MeanRating']\n",
    "movie_ratings_sum"
   ]
  },
  {
   "cell_type": "code",
   "execution_count": 131,
   "id": "8a5fdecd",
   "metadata": {},
   "outputs": [
    {
     "ename": "NameError",
     "evalue": "name 'filtered_movies' is not defined",
     "output_type": "error",
     "traceback": [
      "\u001b[1;31m---------------------------------------------------------------------------\u001b[0m",
      "\u001b[1;31mNameError\u001b[0m                                 Traceback (most recent call last)",
      "Cell \u001b[1;32mIn[131], line 1\u001b[0m\n\u001b[1;32m----> 1\u001b[0m movie_links\u001b[38;5;241m=\u001b[39mfiltered_movies\u001b[38;5;241m.\u001b[39mmerge(right\u001b[38;5;241m=\u001b[39mlinks_df,how\u001b[38;5;241m=\u001b[39m\u001b[38;5;124m'\u001b[39m\u001b[38;5;124minner\u001b[39m\u001b[38;5;124m'\u001b[39m,on\u001b[38;5;241m=\u001b[39m\u001b[38;5;124m'\u001b[39m\u001b[38;5;124mmovieId\u001b[39m\u001b[38;5;124m'\u001b[39m)\n\u001b[0;32m      2\u001b[0m movie_links\n",
      "\u001b[1;31mNameError\u001b[0m: name 'filtered_movies' is not defined"
     ]
    }
   ],
   "source": [
    "movie_links=filtered_movies.merge(right=links_df,how='inner',on='movieId')\n",
    "movie_links"
   ]
  },
  {
   "cell_type": "markdown",
   "id": "55c72dcb",
   "metadata": {},
   "source": [
    "## 12) Mention the movieId of the movie which has the highest IMDB rating.\n"
   ]
  },
  {
   "cell_type": "code",
   "execution_count": 132,
   "id": "a844dd8d",
   "metadata": {},
   "outputs": [
    {
     "ename": "NameError",
     "evalue": "name 'movie_links' is not defined",
     "output_type": "error",
     "traceback": [
      "\u001b[1;31m---------------------------------------------------------------------------\u001b[0m",
      "\u001b[1;31mNameError\u001b[0m                                 Traceback (most recent call last)",
      "Cell \u001b[1;32mIn[132], line 2\u001b[0m\n\u001b[0;32m      1\u001b[0m \u001b[38;5;66;03m#Let's add a column of imdb ratings\u001b[39;00m\n\u001b[1;32m----> 2\u001b[0m movie_links[\u001b[38;5;124m'\u001b[39m\u001b[38;5;124mimdb_ratings\u001b[39m\u001b[38;5;124m'\u001b[39m]\u001b[38;5;241m=\u001b[39mmovie_links[\u001b[38;5;124m'\u001b[39m\u001b[38;5;124mimdbId\u001b[39m\u001b[38;5;124m'\u001b[39m]\u001b[38;5;241m.\u001b[39mapply(\u001b[38;5;28;01mlambda\u001b[39;00m x:scrapper(\u001b[38;5;28mstr\u001b[39m(x)))\n\u001b[0;32m      3\u001b[0m movie_links\n",
      "\u001b[1;31mNameError\u001b[0m: name 'movie_links' is not defined"
     ]
    }
   ],
   "source": [
    "#Let's add a column of imdb ratings\n",
    "movie_links['imdb_ratings']=movie_links['imdbId'].apply(lambda x:scrapper(str(x)))\n",
    "movie_links"
   ]
  },
  {
   "cell_type": "code",
   "execution_count": 135,
   "id": "e8828c2c",
   "metadata": {},
   "outputs": [
    {
     "ename": "NameError",
     "evalue": "name 'movie_links' is not defined",
     "output_type": "error",
     "traceback": [
      "\u001b[1;31m---------------------------------------------------------------------------\u001b[0m",
      "\u001b[1;31mNameError\u001b[0m                                 Traceback (most recent call last)",
      "Cell \u001b[1;32mIn[135], line 1\u001b[0m\n\u001b[1;32m----> 1\u001b[0m movie_links\n",
      "\u001b[1;31mNameError\u001b[0m: name 'movie_links' is not defined"
     ]
    }
   ],
   "source": [
    "movie_links"
   ]
  },
  {
   "cell_type": "code",
   "execution_count": 136,
   "id": "4a8db76a",
   "metadata": {},
   "outputs": [
    {
     "ename": "NameError",
     "evalue": "name 'movie_links' is not defined",
     "output_type": "error",
     "traceback": [
      "\u001b[1;31m---------------------------------------------------------------------------\u001b[0m",
      "\u001b[1;31mNameError\u001b[0m                                 Traceback (most recent call last)",
      "Cell \u001b[1;32mIn[136], line 1\u001b[0m\n\u001b[1;32m----> 1\u001b[0m movie_links\u001b[38;5;241m.\u001b[39msort_values(by\u001b[38;5;241m=\u001b[39m\u001b[38;5;124m'\u001b[39m\u001b[38;5;124mimdb_ratings\u001b[39m\u001b[38;5;124m'\u001b[39m,ascending\u001b[38;5;241m=\u001b[39m\u001b[38;5;28;01mFalse\u001b[39;00m)\u001b[38;5;241m.\u001b[39mhead()\n",
      "\u001b[1;31mNameError\u001b[0m: name 'movie_links' is not defined"
     ]
    }
   ],
   "source": [
    "movie_links.sort_values(by='imdb_ratings',ascending=False).head()"
   ]
  },
  {
   "cell_type": "markdown",
   "id": "28d7e302",
   "metadata": {},
   "source": [
    "## 13)Mention the movieId of the \"Sci-Fi\" movie which has the highest IMDB rating."
   ]
  },
  {
   "cell_type": "code",
   "execution_count": null,
   "id": "c1cc690b",
   "metadata": {},
   "outputs": [],
   "source": [
    "scifi_movies=movie_links[movie_links['genres'].str.contains('Sci-Fi')]\n",
    "scifi_movies.head()\n",
    "\n",
    "scifi_movies.sort_values(by='imdb_ratings',ascending=False).head()"
   ]
  }
 ],
 "metadata": {
  "kernelspec": {
   "display_name": "Python 3 (ipykernel)",
   "language": "python",
   "name": "python3"
  },
  "language_info": {
   "codemirror_mode": {
    "name": "ipython",
    "version": 3
   },
   "file_extension": ".py",
   "mimetype": "text/x-python",
   "name": "python",
   "nbconvert_exporter": "python",
   "pygments_lexer": "ipython3",
   "version": "3.11.4"
  }
 },
 "nbformat": 4,
 "nbformat_minor": 5
}
